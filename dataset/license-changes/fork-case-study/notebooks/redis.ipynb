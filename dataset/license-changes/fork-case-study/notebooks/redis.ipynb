{
 "cells": [
  {
   "cell_type": "markdown",
   "id": "40956700",
   "metadata": {},
   "source": [
    "## Summary\n",
    "\n",
    "### tl;dr\n",
    "\n",
    "Notes:\n",
    "* The Redis project is owned by a company (Redis) and was relicensed on 2024-03-20\n",
    "* Caveat: This is purely a summary of the data that has not been validated from anyone within the community\n",
    "* Analysis of contributions to one repo: https://github.com/redis/redis\n",
    "\n",
    "Quite a few of the contributions to Redis before the relicense came from Redis employees; however, this has become  more pronounced after Redis relicensed in May 2024. Before the relicense, there were significant contributions from employees of other companies. You can see that while Redis employees made more additions and deletions, which can be inflated by large formatting changes, employees of other companies made almost twice as many commits.\n",
    "\n",
    "Here are a few notable examples of contributions in the year leading up to the relicense from employees of Amazon, Alibaba, Huawei, Tencent, and Ericsson. All of these people have transitioned from Redis to the Valkey fork with madolson, enjoy-binbin, and zuiderkwast as top contributors to Valkey.\n",
    "\n",
    "|People|Company|Commits|Additions|Deletions|\n",
    "|:---|:---|:---|:---|:---|\n",
    "| lyq2333 | Alibaba | 10 | 349 | 190 |\n",
    "| soloestoy | Alibaba | 31 | 828 | 364 |\n",
    "| hwware | Huawei Technologies | 25 | 763 | 224 |\n",
    "| roshkhatri | Amazon | 10 | 1917 | 732 |\n",
    "| hpatro | Amazon | 14 | 1437 | 632 |\n",
    "| madolson | Amazon | 24 | 3310 | 1636 |\n",
    "| enjoy-binbin | Tencent Cloud | 146 | 3502 | 1115 |\n",
    "| zuiderkwast | Ericsson Software Technology | 16 | 13057 | 10622 |\n",
    "\n",
    "### After relicense - 1 year (2024-03-20 - 2025-03-20)\n",
    "All of the external contributors from Amazon, Alibaba, Tencent, Huawei, and Ericsson who contributed over 10 commits in the year leading up to the relicense mostly stopped contributing (some made 1-3 commits shortly after the relicense, which likely indicated work already in progress). \n",
    "\n",
    "Redis Employees with >= 10 commits: \n",
    "* People: 10 13.51% of people\n",
    "* Commits: 303 75.00% of total commits\n",
    "* Additions: 65901 66.16% of total additions\n",
    "* Deletions: 16430 72.71% of total deletions\n",
    "\n",
    "Non-Employees with >= 10 commits: \n",
    "* People: 0 0.00% of people\n",
    "* Commits: 0 0.00% of total commits\n",
    "* Additions: 0 0.00% of total additions\n",
    "* Deletions: 0 0.00% of total deletions\n",
    "\n",
    "Totals in dataset of people with >=10 commits:\n",
    "* 66.16% of total additions\n",
    "* 72.71% of total deletions\n",
    "\n",
    "### After relicense - 6 months (2024-03-20 - 2024-09-20)\n",
    "\n",
    "\n",
    "Redis Employees with >= 10 commits: \n",
    "* People: 7 15.22% of people\n",
    "* Commits: 154 74.40% of total commits\n",
    "* Additions: 38270 75.36% of total additions\n",
    "* Deletions: 10464 72.06% of total deletions\n",
    "\n",
    "Non-Employees with >= 10 commits: \n",
    "* People: 0 0.00% of people\n",
    "* Commits: 0 0.00% of total commits\n",
    "* Additions: 0 0.00% of total additions\n",
    "* Deletions: 0 0.00% of total deletions\n",
    "\n",
    "Totals in dataset of people with >=10 commits:\n",
    "* 75.36% of total additions\n",
    "* 72.06% of total deletions\n",
    "\n",
    "### 1 year before relicense (2023-03-20 - 2024-03-20)\n",
    "\n",
    "Redis Employees with >= 10 commits: \n",
    "* People: 6 6.45% of people\n",
    "* Commits: 164 27.70% of total commits\n",
    "* Additions: 189656 80.11% of total additions\n",
    "* Deletions: 83122 73.89% of total deletions\n",
    "\n",
    "Non-Employees with >= 10 commits: \n",
    "* People: 12 12.90% of people\n",
    "* Commits: 319 53.89% of total commits\n",
    "* Additions: 28334 11.97% of total additions\n",
    "* Deletions: 16684 14.83% of total deletions\n",
    "\n",
    "Totals in dataset of people with >=10 commits:\n",
    "* 92.08% of total additions\n",
    "* 88.72% of total deletions\n",
    "\n",
    "External Contributors with 5+ commits:\n",
    "|People|Company|Commits|Additions|Deletions|\n",
    "|:---|:---|:---|:---|:---|\n",
    "| CharlesChen888 | Looking for a job | 21 | 1362 | 529 |\n",
    "| lyq2333 | Alibaba | 10 | 349 | 190 |\n",
    "| meiravgri | None | 5 | 1272 | 361 |\n",
    "| soloestoy | Alibaba | 31 | 828 | 364 |\n",
    "| judeng | None | 10 | 489 | 275 |\n",
    "| hwware | Huawei Technologies | 25 | 763 | 224 |\n",
    "| moshekaplan | None | 7 | 48 | 4 |\n",
    "| roshkhatri | Amazon | 10 | 1917 | 732 |\n",
    "| hpatro | Amazon | 14 | 1437 | 632 |\n",
    "| madolson | Amazon | 24 | 3310 | 1636 |\n",
    "| enjoy-binbin | Tencent Cloud | 146 | 3502 | 1115 |\n",
    "| zuiderkwast | Ericsson Software Technology | 16 | 13057 | 10622 |\n"
   ]
  },
  {
   "cell_type": "markdown",
   "id": "7ad645dd",
   "metadata": {},
   "source": [
    "# 1 Year After Relicense"
   ]
  },
  {
   "cell_type": "code",
   "execution_count": 8,
   "id": "d413c62c",
   "metadata": {},
   "outputs": [],
   "source": [
    "from pprint import pprint\n",
    "import collections\n",
    "import pandas as pd\n",
    "import pickle\n",
    "\n",
    "# Pickle files generated by this script:\n",
    "# https://github.com/chaoss/wg-data-science/blob/main/dataset/license-changes/fork-case-study/commits_people.py\n",
    "\n",
    "people_pickle_a = '../data-files/redis_people_2024-03-20T00:00:00.000+00:002025-03-20T00:00:00.000+00:00.pkl'\n",
    "\n",
    "with open(people_pickle_a, 'rb') as f:\n",
    "    person_dict_a = pickle.load(f)"
   ]
  },
  {
   "cell_type": "code",
   "execution_count": 15,
   "id": "24bf7a09",
   "metadata": {},
   "outputs": [
    {
     "name": "stdout",
     "output_type": "stream",
     "text": [
      "People: 74\n",
      "Commits: 404\n",
      "Additions 99614\n",
      "Deletions 22596\n"
     ]
    }
   ],
   "source": [
    "people = len(person_dict_a)\n",
    "commits = 0\n",
    "additions = 0\n",
    "deletions = 0\n",
    "\n",
    "for key,value in person_dict_a.items():\n",
    "    # Normalize company names and use emails to derive Amazon affiliations\n",
    "    if value['company'] == None:\n",
    "        for email in value['email']:\n",
    "            if any(x in email.lower() for x in ['redis.com', 'redislabs.com']):\n",
    "                person_dict_a[key]['company'] = 'Redis Labs'\n",
    "            if 'amazon.com' in email:\n",
    "                person_dict_a[key]['company'] = 'Amazon'\n",
    "    elif 'redis' in value['company'].lower():\n",
    "        person_dict_a[key]['company'] = 'Redis Labs'\n",
    "    elif 'alibaba' in value['company'].lower():\n",
    "        person_dict_a[key]['company'] = 'Alibaba'\n",
    "    elif any(x in value['company'].lower() for x in ['aws','amazon']):\n",
    "        person_dict_a[key]['company'] = 'Amazon'\n",
    "    \n",
    "        \n",
    "    # Get descriptive statistics\n",
    "    commits = commits + value['commits']\n",
    "    additions = additions + value['additions']\n",
    "    deletions = deletions + value['deletions']\n",
    "    \n",
    "print(\"People:\", people)\n",
    "print(\"Commits:\", commits)\n",
    "print(\"Additions\", additions)\n",
    "print(\"Deletions\", deletions)"
   ]
  },
  {
   "cell_type": "code",
   "execution_count": 10,
   "id": "37632981",
   "metadata": {},
   "outputs": [
    {
     "name": "stdout",
     "output_type": "stream",
     "text": [
      "tezc {'email': ['ozantezcan@gmail.com'], 'deletions': 3695, 'commits': 29, 'additions': 10214, 'company': None, 'name': 'Ozan Tezcan'}\n"
     ]
    }
   ],
   "source": [
    "for key,value in person_dict_a.items():\n",
    "    if (value['commits'] >= 5) and (value['company'] == None):\n",
    "        print(key,value)"
   ]
  },
  {
   "cell_type": "code",
   "execution_count": 11,
   "id": "10a916ff",
   "metadata": {},
   "outputs": [],
   "source": [
    "# Manual Fixes\n",
    "person_dict_a['tezc']['company'] = 'Redis Labs' # confirmed in conversation with Madelyn Olson on 2024-09-18\n",
    "\n",
    "# Remove bots\n",
    "try:\n",
    "    del person_dict_a['dependabot[bot]']\n",
    "except:\n",
    "    pass"
   ]
  },
  {
   "cell_type": "code",
   "execution_count": 12,
   "id": "dde6055f",
   "metadata": {},
   "outputs": [
    {
     "name": "stdout",
     "output_type": "stream",
     "text": [
      "\n",
      "Redis Employees with >= 10 commits: \n",
      "* People: 10 13.51% of people\n",
      "* Commits: 303 75.00% of total commits\n",
      "* Additions: 65901 66.16% of total additions\n",
      "* Deletions: 16430 72.71% of total deletions\n",
      "\n",
      "Non-Employees with >= 10 commits: \n",
      "* People: 0 0.00% of people\n",
      "* Commits: 0 0.00% of total commits\n",
      "* Additions: 0 0.00% of total additions\n",
      "* Deletions: 0 0.00% of total deletions\n",
      "\n",
      "Totals in dataset of people with >=10 commits:\n",
      "* 66.16% of total additions\n",
      "* 72.71% of total deletions\n"
     ]
    }
   ],
   "source": [
    "org_people = 0\n",
    "org_commits = 0\n",
    "org_additions = 0\n",
    "org_deletions = 0\n",
    "\n",
    "other_people = 0\n",
    "other_commits = 0\n",
    "other_additions = 0\n",
    "other_deletions = 0\n",
    "\n",
    "for key,value in person_dict_a.items():\n",
    "    try:\n",
    "        if value['commits'] >= 5:\n",
    "            if value['company'] == 'Redis Labs':\n",
    "                org_people += 1\n",
    "                org_commits = org_commits + value['commits']\n",
    "                org_additions = org_additions + value['additions']\n",
    "                org_deletions = org_deletions + value['deletions']\n",
    "            else:\n",
    "                other_people += 1\n",
    "                other_commits = other_commits + value['commits']\n",
    "                other_additions = other_additions + value['additions']\n",
    "                other_deletions = other_deletions + value['deletions']\n",
    "                print(key,value)\n",
    "            i+=1\n",
    "    except:\n",
    "        pass\n",
    "\n",
    "print(\"\\nRedis Employees with >= 10 commits:\", \"\\n* People:\", org_people, format(org_people/people, \".2%\"), \"of people\")\n",
    "print(\"* Commits:\", org_commits, format(org_commits/commits, \".2%\"), \"of total commits\")\n",
    "print(\"* Additions:\", org_additions, format(org_additions/additions, \".2%\"), \"of total additions\")\n",
    "print(\"* Deletions:\", org_deletions, format(org_deletions/deletions, \".2%\"), \"of total deletions\")\n",
    "\n",
    "print(\"\\nNon-Employees with >= 10 commits:\", \"\\n* People:\", other_people, format(other_people/people, \".2%\"), \"of people\")\n",
    "print(\"* Commits:\", other_commits, format(other_commits/commits, \".2%\"), \"of total commits\")\n",
    "print(\"* Additions:\", other_additions, format(other_additions/additions, \".2%\"), \"of total additions\")\n",
    "print(\"* Deletions:\", other_deletions, format(other_deletions/deletions, \".2%\"), \"of total deletions\")\n",
    "      \n",
    "print(\"\\nTotals in dataset of people with >=10 commits:\")\n",
    "print('*', format((other_additions + org_additions)/additions, \".2%\"), \"of total additions\")\n",
    "print('*', format((other_deletions + org_deletions)/deletions, \".2%\"), \"of total deletions\")"
   ]
  },
  {
   "cell_type": "code",
   "execution_count": 48,
   "id": "ca6accb4",
   "metadata": {},
   "outputs": [
    {
     "name": "stdout",
     "output_type": "stream",
     "text": [
      "|People|Company|Commits|Additions|Deletions|\n",
      "|:---|:---|:---|:---|:---|\n",
      "| bjosv | @Ericsson  | 1 | 413 | 6 |\n",
      "| guowangy | None | 3 | 77 | 33 |\n",
      "| PingXie | Google | 1 | 2205 | 213 |\n",
      "| alsoalgo | None | 3 | 51 | 24 |\n",
      "| enjoy-binbin | Tencent Cloud | 3 | 3263 | 308 |\n",
      "| raz-mon | None | 3 | 660 | 31 |\n",
      "| hpatro | Amazon | 2 | 148 | 23 |\n",
      "| ClaytonNorthey92 | None | 2 | 826 | 12 |\n",
      "| lipzhu | Intel | 3 | 77 | 33 |\n",
      "| j178 | None | 1 | 198 | 135 |\n",
      "| madolson | Amazon | 3 | 2387 | 228 |\n",
      "| zuiderkwast | Ericsson Software Technology | 4 | 3813 | 255 |\n",
      "| raffertyyu | None | 1 | 64 | 2 |\n",
      "| xbasel | None | 1 | 2205 | 213 |\n",
      "| uriyage | Amazon | 1 | 174 | 15 |\n",
      "| vitahlin | None | 4 | 311 | 91 |\n",
      "| ranshid | Amazon | 2 | 4410 | 426 |\n",
      "| naglera | Amazon | 4 | 4540 | 450 |\n",
      "| Nugine | None | 3 | 373 | 18 |\n"
     ]
    }
   ],
   "source": [
    "# Make it easy for the print statements to be copied into a Markdown table\n",
    "\n",
    "adds=0\n",
    "dels=0\n",
    "\n",
    "print('|People|Company|Commits|Additions|Deletions|')\n",
    "print('|:---|:---|:---|:---|:---|')\n",
    "for key,value in person_dict_a.items():\n",
    "    try:\n",
    "        if (value['company'] != 'Redis Labs') and (value['additions'] >= 50):\n",
    "            adds+=value['additions']\n",
    "            dels+=value['deletions']\n",
    "            print('|', key,'|', value['company'], '|', value['commits'],'|', value['additions'],'|', value['deletions'],'|')\n",
    "\n",
    "    except:\n",
    "        pass"
   ]
  },
  {
   "cell_type": "markdown",
   "id": "c9464ff8",
   "metadata": {},
   "source": [
    "Note: Copied from above for readability.\n",
    "\n",
    "|People|Company|Commits|Additions|Deletions|\n",
    "|:---|:---|:---|:---|:---|\n",
    "| bjosv | @Ericsson  | 1 | 413 | 6 |\n",
    "| guowangy | None | 3 | 77 | 33 |\n",
    "| PingXie | Google | 1 | 2205 | 213 |\n",
    "| alsoalgo | None | 3 | 51 | 24 |\n",
    "| enjoy-binbin | Tencent Cloud | 3 | 3263 | 308 |\n",
    "| raz-mon | None | 3 | 660 | 31 |\n",
    "| hpatro | Amazon | 2 | 148 | 23 |\n",
    "| ClaytonNorthey92 | None | 2 | 826 | 12 |\n",
    "| lipzhu | Intel | 3 | 77 | 33 |\n",
    "| j178 | None | 1 | 198 | 135 |\n",
    "| madolson | Amazon | 3 | 2387 | 228 |\n",
    "| zuiderkwast | Ericsson Software Technology | 4 | 3813 | 255 |\n",
    "| raffertyyu | None | 1 | 64 | 2 |\n",
    "| xbasel | None | 1 | 2205 | 213 |\n",
    "| uriyage | Amazon | 1 | 174 | 15 |\n",
    "| vitahlin | None | 4 | 311 | 91 |\n",
    "| ranshid | Amazon | 2 | 4410 | 426 |\n",
    "| naglera | Amazon | 4 | 4540 | 450 |\n",
    "| Nugine | None | 3 | 373 | 18 |"
   ]
  },
  {
   "cell_type": "markdown",
   "id": "551bbc89",
   "metadata": {},
   "source": [
    "# 6 Months after relicense (2024-03-20 - 2024-09-20)"
   ]
  },
  {
   "cell_type": "code",
   "execution_count": 50,
   "id": "30b64c61",
   "metadata": {},
   "outputs": [],
   "source": [
    "from pprint import pprint\n",
    "import collections\n",
    "import pandas as pd\n",
    "import pickle\n",
    "\n",
    "# Pickle files generated by this script:\n",
    "# https://github.com/chaoss/wg-data-science/blob/main/dataset/license-changes/fork-case-study/commits_people.py\n",
    "\n",
    "people_pickle_a = '../data-files/redis_people_2024-03-20T00:00:00.000+00:002024-09-20T00:00:00.000+00:00.pkl'\n",
    "\n",
    "with open(people_pickle_a, 'rb') as f:\n",
    "    person_dict_a = pickle.load(f)"
   ]
  },
  {
   "cell_type": "code",
   "execution_count": 51,
   "id": "0bf71b51",
   "metadata": {},
   "outputs": [
    {
     "name": "stdout",
     "output_type": "stream",
     "text": [
      "People: 46\n",
      "Commits: 207\n",
      "Additions 50786\n",
      "Deletions 14521\n"
     ]
    }
   ],
   "source": [
    "people = len(person_dict_a)\n",
    "commits = 0\n",
    "additions = 0\n",
    "deletions = 0\n",
    "\n",
    "for key,value in person_dict_a.items():\n",
    "    # Normalize company names and use emails to derive Amazon affiliations\n",
    "    if value['company'] == None:\n",
    "        for email in value['email']:\n",
    "            if any(x in email.lower() for x in ['redis.com', 'redislabs.com']):\n",
    "                person_dict_a[key]['company'] = 'Redis Labs'\n",
    "            if 'amazon.com' in email:\n",
    "                person_dict_a[key]['company'] = 'Amazon'\n",
    "    elif 'redis' in value['company'].lower():\n",
    "        person_dict_a[key]['company'] = 'Redis Labs'\n",
    "    elif 'alibaba' in value['company'].lower():\n",
    "        person_dict_a[key]['company'] = 'Alibaba'\n",
    "    elif any(x in value['company'].lower() for x in ['aws','amazon']):\n",
    "        person_dict_a[key]['company'] = 'Amazon'\n",
    "    \n",
    "        \n",
    "    # Get descriptive statistics\n",
    "    commits = commits + value['commits']\n",
    "    additions = additions + value['additions']\n",
    "    deletions = deletions + value['deletions']\n",
    "    \n",
    "print(\"People:\", people)\n",
    "print(\"Commits:\", commits)\n",
    "print(\"Additions\", additions)\n",
    "print(\"Deletions\", deletions)"
   ]
  },
  {
   "cell_type": "code",
   "execution_count": 52,
   "id": "007de7a1",
   "metadata": {},
   "outputs": [
    {
     "name": "stdout",
     "output_type": "stream",
     "text": [
      "YaacovHazan {'company': None, 'additions': 758, 'name': None, 'deletions': 280, 'email': ['31382944+YaacovHazan@users.noreply.github.com'], 'commits': 5}\n",
      "tezc {'company': None, 'additions': 5472, 'name': 'Ozan Tezcan', 'deletions': 3282, 'email': ['ozantezcan@gmail.com'], 'commits': 19}\n"
     ]
    }
   ],
   "source": [
    "for key,value in person_dict_a.items():\n",
    "    if (value['commits'] >= 5) and (value['company'] == None):\n",
    "        print(key,value)"
   ]
  },
  {
   "cell_type": "code",
   "execution_count": 53,
   "id": "f3f44612",
   "metadata": {},
   "outputs": [],
   "source": [
    "# Manual Fixes\n",
    "person_dict_a['YaacovHazan']['company'] = 'Redis Labs' # https://www.linkedin.com/in/yaacov-hazan-b8043a99/\n",
    "person_dict_a['tezc']['company'] = 'Redis Labs' # confirmed in conversation with Madelyn Olson on 2024-09-18\n",
    "\n",
    "# Remove bots\n",
    "try:\n",
    "    del person_dict_a['dependabot[bot]']\n",
    "except:\n",
    "    pass"
   ]
  },
  {
   "cell_type": "code",
   "execution_count": 54,
   "id": "eb6fff01",
   "metadata": {},
   "outputs": [
    {
     "name": "stdout",
     "output_type": "stream",
     "text": [
      "\n",
      "Redis Employees with >= 10 commits: \n",
      "* People: 7 15.22% of people\n",
      "* Commits: 154 74.40% of total commits\n",
      "* Additions: 38270 75.36% of total additions\n",
      "* Deletions: 10464 72.06% of total deletions\n",
      "\n",
      "Non-Employees with >= 10 commits: \n",
      "* People: 0 0.00% of people\n",
      "* Commits: 0 0.00% of total commits\n",
      "* Additions: 0 0.00% of total additions\n",
      "* Deletions: 0 0.00% of total deletions\n",
      "\n",
      "Totals in dataset of people with >=10 commits:\n",
      "* 75.36% of total additions\n",
      "* 72.06% of total deletions\n"
     ]
    }
   ],
   "source": [
    "org_people = 0\n",
    "org_commits = 0\n",
    "org_additions = 0\n",
    "org_deletions = 0\n",
    "\n",
    "other_people = 0\n",
    "other_commits = 0\n",
    "other_additions = 0\n",
    "other_deletions = 0\n",
    "\n",
    "for key,value in person_dict_a.items():\n",
    "    try:\n",
    "        if value['commits'] >= 5:\n",
    "            if value['company'] == 'Redis Labs':\n",
    "                org_people += 1\n",
    "                org_commits = org_commits + value['commits']\n",
    "                org_additions = org_additions + value['additions']\n",
    "                org_deletions = org_deletions + value['deletions']\n",
    "            else:\n",
    "                other_people += 1\n",
    "                other_commits = other_commits + value['commits']\n",
    "                other_additions = other_additions + value['additions']\n",
    "                other_deletions = other_deletions + value['deletions']\n",
    "                print(key,value)\n",
    "            i+=1\n",
    "    except:\n",
    "        pass\n",
    "\n",
    "print(\"\\nRedis Employees with >= 10 commits:\", \"\\n* People:\", org_people, format(org_people/people, \".2%\"), \"of people\")\n",
    "print(\"* Commits:\", org_commits, format(org_commits/commits, \".2%\"), \"of total commits\")\n",
    "print(\"* Additions:\", org_additions, format(org_additions/additions, \".2%\"), \"of total additions\")\n",
    "print(\"* Deletions:\", org_deletions, format(org_deletions/deletions, \".2%\"), \"of total deletions\")\n",
    "\n",
    "print(\"\\nNon-Employees with >= 10 commits:\", \"\\n* People:\", other_people, format(other_people/people, \".2%\"), \"of people\")\n",
    "print(\"* Commits:\", other_commits, format(other_commits/commits, \".2%\"), \"of total commits\")\n",
    "print(\"* Additions:\", other_additions, format(other_additions/additions, \".2%\"), \"of total additions\")\n",
    "print(\"* Deletions:\", other_deletions, format(other_deletions/deletions, \".2%\"), \"of total deletions\")\n",
    "      \n",
    "print(\"\\nTotals in dataset of people with >=10 commits:\")\n",
    "print('*', format((other_additions + org_additions)/additions, \".2%\"), \"of total additions\")\n",
    "print('*', format((other_deletions + org_deletions)/deletions, \".2%\"), \"of total deletions\")"
   ]
  },
  {
   "cell_type": "code",
   "execution_count": 55,
   "id": "99d8c9f6",
   "metadata": {},
   "outputs": [
    {
     "name": "stdout",
     "output_type": "stream",
     "text": [
      "|People|Company|Commits|Additions|Deletions|\n",
      "|:---|:---|:---|:---|:---|\n",
      "| ClaytonNorthey92 | None | 2 | 826 | 12 |\n",
      "| enjoy-binbin | Tencent Cloud | 2 | 1058 | 95 |\n",
      "| stevelipinski | None | 1 | 41 | 30 |\n",
      "| paoloredis | None | 1 | 24 | 0 |\n",
      "| uriyage | Amazon | 1 | 174 | 15 |\n",
      "| madolson | Amazon | 1 | 174 | 15 |\n",
      "| AcherTT | None | 1 | 29 | 0 |\n",
      "| vitahlin | None | 2 | 260 | 83 |\n",
      "| judeng | None | 1 | 6 | 36 |\n",
      "| guowangy | None | 1 | 40 | 24 |\n",
      "| guanmengshi | None | 1 | 28 | 0 |\n",
      "| yveslb | None | 2 | 785 | 31 |\n",
      "| zuiderkwast | Ericsson Software Technology | 3 | 1608 | 42 |\n",
      "| dev-jonghoonpark | None | 1 | 30 | 101 |\n",
      "| bjosv | @Ericsson  | 1 | 413 | 6 |\n",
      "| udi-speedb | None | 1 | 21 | 1 |\n",
      "| linzihao1999 | Amazon | 1 | 17 | 14 |\n",
      "| j178 | None | 1 | 198 | 135 |\n",
      "| lyq2333 | Alibaba | 1 | 11 | 0 |\n",
      "| naglera | Amazon | 2 | 130 | 24 |\n",
      "| cyy-tag | None | 2 | 18 | 2 |\n",
      "| lipzhu | Intel | 1 | 40 | 24 |\n",
      "| hpatro | Amazon | 2 | 148 | 23 |\n"
     ]
    }
   ],
   "source": [
    "# Make it easy for the print statements to be copied into a Markdown table\n",
    "\n",
    "adds=0\n",
    "dels=0\n",
    "\n",
    "print('|People|Company|Commits|Additions|Deletions|')\n",
    "print('|:---|:---|:---|:---|:---|')\n",
    "for key,value in person_dict_a.items():\n",
    "    try:\n",
    "        if (value['company'] != 'Redis Labs') and (value['additions'] >= 5):\n",
    "            adds+=value['additions']\n",
    "            dels+=value['deletions']\n",
    "            print('|', key,'|', value['company'], '|', value['commits'],'|', value['additions'],'|', value['deletions'],'|')\n",
    "\n",
    "    except:\n",
    "        pass"
   ]
  },
  {
   "cell_type": "markdown",
   "id": "a9f28927",
   "metadata": {},
   "source": [
    "###### This is manually copied from above \n",
    "\n",
    "|People|Company|Commits|Additions|Deletions|\n",
    "|:---|:---|:---|:---|:---|\n",
    "| ClaytonNorthey92 | None | 2 | 826 | 12 |\n",
    "| enjoy-binbin | Tencent Cloud | 2 | 1058 | 95 |\n",
    "| stevelipinski | None | 1 | 41 | 30 |\n",
    "| paoloredis | None | 1 | 24 | 0 |\n",
    "| uriyage | Amazon | 1 | 174 | 15 |\n",
    "| madolson | Amazon | 1 | 174 | 15 |\n",
    "| AcherTT | None | 1 | 29 | 0 |\n",
    "| vitahlin | None | 2 | 260 | 83 |\n",
    "| judeng | None | 1 | 6 | 36 |\n",
    "| guowangy | None | 1 | 40 | 24 |\n",
    "| guanmengshi | None | 1 | 28 | 0 |\n",
    "| yveslb | None | 2 | 785 | 31 |\n",
    "| zuiderkwast | Ericsson Software Technology | 3 | 1608 | 42 |\n",
    "| dev-jonghoonpark | None | 1 | 30 | 101 |\n",
    "| bjosv | @Ericsson  | 1 | 413 | 6 |\n",
    "| udi-speedb | None | 1 | 21 | 1 |\n",
    "| linzihao1999 | Amazon | 1 | 17 | 14 |\n",
    "| j178 | None | 1 | 198 | 135 |\n",
    "| lyq2333 | Alibaba | 1 | 11 | 0 |\n",
    "| naglera | Amazon | 2 | 130 | 24 |\n",
    "| cyy-tag | None | 2 | 18 | 2 |\n",
    "| lipzhu | Intel | 1 | 40 | 24 |\n",
    "| hpatro | Amazon | 2 | 148 | 23 |"
   ]
  },
  {
   "cell_type": "code",
   "execution_count": 25,
   "id": "4eb97ee9",
   "metadata": {},
   "outputs": [
    {
     "name": "stdout",
     "output_type": "stream",
     "text": [
      "ClaytonNorthey92 {'company': None, 'additions': 826, 'name': None, 'deletions': 12, 'email': ['clayton.northey@gmail.com'], 'commits': 2}\n",
      "enjoy-binbin {'company': 'Tencent Cloud', 'additions': 1058, 'name': 'Binbin', 'deletions': 95, 'email': ['binloveplay1314@qq.com'], 'commits': 2}\n",
      "panzhongxian {'company': 'Tencent', 'additions': 4, 'name': 'Zhongxian Pan', 'deletions': 11, 'email': ['panzhongxian0532@gmail.com'], 'commits': 1}\n",
      "valentinogeron {'company': 'Redis Labs', 'additions': 86, 'name': 'Valentino Geron', 'deletions': 21, 'email': ['valentino@redis.com'], 'commits': 1}\n",
      "mxmlkzdh {'company': 'Google', 'additions': 0, 'name': 'Max Malekzadeh', 'deletions': 1, 'email': ['11231195+mxmlkzdh@users.noreply.github.com'], 'commits': 1}\n",
      "stevelipinski {'company': None, 'additions': 41, 'name': 'Steve', 'deletions': 30, 'email': ['7024856+stevelipinski@users.noreply.github.com'], 'commits': 1}\n",
      "CoolThi {'company': None, 'additions': 1, 'name': None, 'deletions': 3, 'email': ['xchy233@gmail.com'], 'commits': 1}\n",
      "paoloredis {'company': None, 'additions': 24, 'name': None, 'deletions': 0, 'email': ['158162796+paoloredis@users.noreply.github.com'], 'commits': 1}\n",
      "uriyage {'company': 'Amazon', 'additions': 174, 'name': None, 'deletions': 15, 'email': ['uriy@amazon.com'], 'commits': 1}\n",
      "raz-mon {'company': None, 'additions': 0, 'name': 'Raz Monsonego', 'deletions': 1, 'email': ['74051729+raz-mon@users.noreply.github.com'], 'commits': 1}\n",
      "TedLyngmo {'company': None, 'additions': 4, 'name': 'Ted Lyngmo', 'deletions': 1, 'email': ['ted@lyncon.se'], 'commits': 1}\n",
      "madolson {'company': 'Amazon', 'additions': 174, 'name': 'Madelyn Olson', 'deletions': 15, 'email': ['madelyneolson@gmail.com'], 'commits': 1}\n",
      "adamiBs {'company': 'Redis Labs', 'additions': 22, 'name': None, 'deletions': 4, 'email': ['adam.ben-shmuel@redis.com'], 'commits': 1}\n",
      "MeirShpilraien {'company': 'Redis Labs', 'additions': 262, 'name': 'Meir Shpilraien (Spielrein)', 'deletions': 33, 'email': ['meir@redis.com'], 'commits': 3}\n",
      "AcherTT {'company': None, 'additions': 29, 'name': None, 'deletions': 0, 'email': ['937889516@qq.com'], 'commits': 1}\n",
      "vitahlin {'company': None, 'additions': 260, 'name': 'Vitah Lin', 'deletions': 83, 'email': ['vitahlin@gmail.com'], 'commits': 2}\n",
      "judeng {'company': None, 'additions': 6, 'name': None, 'deletions': 36, 'email': ['abc3844@126.com'], 'commits': 1}\n",
      "guowangy {'company': None, 'additions': 40, 'name': 'Guo Wangyang', 'deletions': 24, 'email': ['wangyang.guo@intel.com'], 'commits': 1}\n",
      "SoulPancake {'company': '@razorpay', 'additions': 4, 'name': 'Anurag Bandyopadhyay', 'deletions': 4, 'email': ['angbpy@gmail.com', '70265851+Anuragkillswitch@users.noreply.github.com'], 'commits': 2}\n",
      "guanmengshi {'company': None, 'additions': 28, 'name': 'gms', 'deletions': 0, 'email': ['38031771+guanmengshi@users.noreply.github.com'], 'commits': 1}\n",
      "yveslb {'company': None, 'additions': 785, 'name': 'Yves LeBras', 'deletions': 31, 'email': ['ylb415+github@gmail.com'], 'commits': 2}\n",
      "K-Jo {'company': 'Redis Labs', 'additions': 1333, 'name': 'Pieter Cailliau', 'deletions': 3066, 'email': ['pieter@redis.com'], 'commits': 1}\n",
      "filipecosta90 {'company': 'Redis Labs', 'additions': 4020, 'name': 'Filipe Oliveira (Personal)', 'deletions': 69, 'email': ['filipecosta.90@gmail.com'], 'commits': 3}\n",
      "zuiderkwast {'company': 'Ericsson Software Technology', 'additions': 1608, 'name': 'Viktor Söderqvist', 'deletions': 42, 'email': ['viktor.soderqvist@est.tech', 'viktor@zuiderkwast.se'], 'commits': 3}\n",
      "dev-jonghoonpark {'company': None, 'additions': 30, 'name': 'jonghoonpark', 'deletions': 101, 'email': ['dev@jonghoonpark.com'], 'commits': 1}\n",
      "bjosv {'company': '@Ericsson ', 'additions': 413, 'name': 'Björn Svensson', 'deletions': 6, 'email': ['bjorn.a.svensson@est.tech'], 'commits': 1}\n",
      "ronen-kalish {'company': 'Redis Labs', 'additions': 660, 'name': 'Ronen Kalish', 'deletions': 88, 'email': ['ronen.kalish@redis.com'], 'commits': 1}\n",
      "udi-speedb {'company': None, 'additions': 21, 'name': None, 'deletions': 1, 'email': ['udi@speedb.io'], 'commits': 1}\n",
      "linzihao1999 {'company': 'Amazon', 'additions': 17, 'name': 'Zihao Lin', 'deletions': 14, 'email': ['104664078@163.com'], 'commits': 1}\n",
      "j178 {'company': None, 'additions': 198, 'name': 'Jo', 'deletions': 135, 'email': ['10510431+j178@users.noreply.github.com'], 'commits': 1}\n",
      "c8ef {'company': None, 'additions': 1, 'name': None, 'deletions': 1, 'email': ['c8ef@outlook.com'], 'commits': 1}\n",
      "LiorKogan {'company': 'Redis Labs', 'additions': 36, 'name': 'Lior Kogan', 'deletions': 30, 'email': ['koganlior1@gmail.com'], 'commits': 1}\n",
      "dwdougherty {'company': 'Redis Labs', 'additions': 1, 'name': 'David Dougherty', 'deletions': 11, 'email': ['david.dougherty@redis.com'], 'commits': 1}\n",
      "lyq2333 {'company': 'Alibaba', 'additions': 11, 'name': 'Yanqi Lv', 'deletions': 0, 'email': ['lvyanqi.lyq@alibaba-inc.com'], 'commits': 1}\n",
      "naglera {'company': 'Amazon', 'additions': 130, 'name': 'Amit Nagler', 'deletions': 24, 'email': ['anagler123@gmail.com', '58042354+naglera@users.noreply.github.com'], 'commits': 2}\n",
      "cyy-tag {'company': None, 'additions': 18, 'name': None, 'deletions': 2, 'email': ['62051524+cyy-tag@users.noreply.github.com'], 'commits': 2}\n",
      "lipzhu {'company': 'Intel', 'additions': 40, 'name': 'Lipeng Zhu', 'deletions': 24, 'email': ['lipeng.zhu@intel.com'], 'commits': 1}\n",
      "hpatro {'company': 'Amazon', 'additions': 148, 'name': 'Harkrishn Patro', 'deletions': 23, 'email': ['harkrisp@amazon.com'], 'commits': 2}\n",
      "LuMingYinDetect {'company': None, 'additions': 3, 'name': None, 'deletions': 0, 'email': ['156896793+LuMingYinDetect@users.noreply.github.com'], 'commits': 1}\n",
      "Adds: 12516 Dels 4057\n"
     ]
    }
   ],
   "source": [
    "# These are the people who account for the non-Redis contributions\n",
    "adds = 0\n",
    "dels = 0\n",
    "for key,value in person_dict_a.items():\n",
    "    if (value['commits'] < 5):\n",
    "        print(key,value)\n",
    "        adds+=value['additions']\n",
    "        dels+=value['deletions']\n",
    "print(\"Adds:\", adds, \"Dels\", dels)"
   ]
  },
  {
   "cell_type": "markdown",
   "id": "6739f8f4",
   "metadata": {},
   "source": [
    "# 1 year before relicense (2023-03-20 - 2024-03-20)"
   ]
  },
  {
   "cell_type": "code",
   "execution_count": 26,
   "id": "097681c8",
   "metadata": {},
   "outputs": [
    {
     "data": {
      "text/plain": [
       "93"
      ]
     },
     "execution_count": 26,
     "metadata": {},
     "output_type": "execute_result"
    }
   ],
   "source": [
    "from pprint import pprint\n",
    "import collections\n",
    "import pandas as pd\n",
    "import pickle\n",
    "\n",
    "# Pickle files generated by this script:\n",
    "# https://github.com/chaoss/wg-data-science/blob/main/dataset/license-changes/fork-case-study/commits_people.py\n",
    "\n",
    "people_pickle_1yr = '../data-files/redis_people_2023-03-20T00:00:00.000+00:002024-03-20T00:00:00.000+00:00.pkl'\n",
    "\n",
    "with open(people_pickle_1yr, 'rb') as f:\n",
    "    person_dict_1yr = pickle.load(f)\n",
    "    \n",
    "len(person_dict_1yr)"
   ]
  },
  {
   "cell_type": "code",
   "execution_count": 27,
   "id": "06da7221",
   "metadata": {},
   "outputs": [
    {
     "name": "stdout",
     "output_type": "stream",
     "text": [
      "People: 93\n",
      "Commits: 592\n",
      "Additions 236730\n",
      "Deletions 112490\n"
     ]
    }
   ],
   "source": [
    "people = len(person_dict_1yr)\n",
    "commits = 0\n",
    "additions = 0\n",
    "deletions = 0\n",
    "\n",
    "for key,value in person_dict_1yr.items():\n",
    "    # Normalize company names and use emails to derive Amazon affiliations\n",
    "    if value['company'] == None:\n",
    "        for email in value['email']:\n",
    "            if any(x in email.lower() for x in ['redis.com', 'redislabs.com']):\n",
    "                person_dict_1yr[key]['company'] = 'Redis Labs'\n",
    "            if 'amazon.com' in email:\n",
    "                person_dict_1yr[key]['company'] = 'Amazon'\n",
    "    elif 'redis' in value['company'].lower():\n",
    "        person_dict_1yr[key]['company'] = 'Redis Labs'\n",
    "    elif 'alibaba' in value['company'].lower():\n",
    "        person_dict_1yr[key]['company'] = 'Alibaba'\n",
    "    elif any(x in value['company'].lower() for x in ['aws','amazon']):\n",
    "        person_dict_1yr[key]['company'] = 'Amazon'\n",
    "    \n",
    "        \n",
    "    # Get descriptive statistics\n",
    "    commits = commits + value['commits']\n",
    "    additions = additions + value['additions']\n",
    "    deletions = deletions + value['deletions']\n",
    "    \n",
    "print(\"People:\", people)\n",
    "print(\"Commits:\", commits)\n",
    "print(\"Additions\", additions)\n",
    "print(\"Deletions\", deletions)"
   ]
  },
  {
   "cell_type": "code",
   "execution_count": 28,
   "id": "5332a623",
   "metadata": {},
   "outputs": [
    {
     "name": "stdout",
     "output_type": "stream",
     "text": [
      "YaacovHazan {'name': None, 'company': None, 'additions': 159, 'commits': 12, 'email': ['31382944+YaacovHazan@users.noreply.github.com'], 'deletions': 183}\n",
      "yossigo {'name': 'Yossi Gottlieb', 'company': None, 'additions': 8040, 'commits': 11, 'email': ['yossigo@gmail.com'], 'deletions': 1179}\n",
      "judeng {'name': None, 'company': None, 'additions': 489, 'commits': 10, 'email': ['abc3844@126.com'], 'deletions': 275}\n"
     ]
    }
   ],
   "source": [
    "for key,value in person_dict_1yr.items():\n",
    "    if (value['commits'] >= 10) and (value['company'] == None):\n",
    "        print(key,value)"
   ]
  },
  {
   "cell_type": "code",
   "execution_count": 29,
   "id": "3011be86",
   "metadata": {},
   "outputs": [],
   "source": [
    "# Manual Fixes\n",
    "person_dict_1yr['YaacovHazan']['company'] = 'Redis Labs' # https://www.linkedin.com/in/yaacov-hazan-b8043a99/\n",
    "person_dict_1yr['yossigo']['company'] = 'Redis Labs'  # https://www.linkedin.com/in/yossi-gottlieb-40842/\n",
    "person_dict_1yr['tezc']['company'] = 'Redis Labs' # confirmed in conversation with Madelyn Olson on 2024-09-18\n",
    "\n",
    "\n",
    "# Remove bots\n",
    "try:\n",
    "    del person_dict_1yr['dependabot[bot]']\n",
    "except:\n",
    "    pass"
   ]
  },
  {
   "cell_type": "code",
   "execution_count": 30,
   "id": "68618ac8",
   "metadata": {},
   "outputs": [
    {
     "name": "stdout",
     "output_type": "stream",
     "text": [
      "CharlesChen888 Looking for a job 21 1362 529\n",
      "lyq2333 Alibaba 10 349 190\n",
      "soloestoy Alibaba 31 828 364\n",
      "judeng None 10 489 275\n",
      "hwware Huawei Technologies 25 763 224\n",
      "roshkhatri Amazon 10 1917 732\n",
      "hpatro Amazon 14 1437 632\n",
      "madolson Amazon 24 3310 1636\n",
      "enjoy-binbin Tencent Cloud 146 3502 1115\n",
      "zuiderkwast Ericsson Software Technology 16 13057 10622\n"
     ]
    }
   ],
   "source": [
    "for key,value in person_dict_1yr.items():\n",
    "    try:\n",
    "        if (value['commits'] >= 10) and (value['company'] != 'Redis Labs'):\n",
    "            print(key,value['company'],value['commits'],value['additions'],value['deletions'])\n",
    "    except:\n",
    "        pass"
   ]
  },
  {
   "cell_type": "code",
   "execution_count": 31,
   "id": "7455a37f",
   "metadata": {},
   "outputs": [
    {
     "name": "stdout",
     "output_type": "stream",
     "text": [
      "CharlesChen888 {'name': 'Chen Tianjie', 'company': 'Looking for a job', 'additions': 1362, 'commits': 21, 'email': ['chentianjie.ctj@alibaba-inc.com', 'TJ_Chen@outlook.com'], 'deletions': 529}\n",
      "lyq2333 {'name': 'Yanqi Lv', 'company': 'Alibaba', 'additions': 349, 'commits': 10, 'email': ['lvyanqi.lyq@alibaba-inc.com', '50293466+lyq2333@users.noreply.github.com'], 'deletions': 190}\n",
      "meiravgri {'name': None, 'company': None, 'additions': 1272, 'commits': 5, 'email': ['109056284+meiravgri@users.noreply.github.com'], 'deletions': 361}\n",
      "soloestoy {'name': 'zhaozhao.zz', 'company': 'Alibaba', 'additions': 828, 'commits': 31, 'email': ['zhaozhao.zz@alibaba-inc.com'], 'deletions': 364}\n",
      "judeng {'name': None, 'company': None, 'additions': 489, 'commits': 10, 'email': ['abc3844@126.com'], 'deletions': 275}\n",
      "hwware {'name': 'Wen Hui', 'company': 'Huawei Technologies', 'additions': 763, 'commits': 25, 'email': ['wen.hui.ware@gmail.com'], 'deletions': 224}\n",
      "moshekaplan {'name': 'Moshe Kaplan', 'company': None, 'additions': 48, 'commits': 7, 'email': ['mosheekaplan@gmail.com'], 'deletions': 4}\n",
      "roshkhatri {'name': 'Roshan Khatri', 'company': 'Amazon', 'additions': 1917, 'commits': 10, 'email': ['117414976+roshkhatri@users.noreply.github.com', 'rvkhatri@amazon.com'], 'deletions': 732}\n",
      "hpatro {'name': 'Harkrishn Patro', 'company': 'Amazon', 'additions': 1437, 'commits': 14, 'email': ['harkrisp@amazon.com', 'bunty.hari@gmail.com'], 'deletions': 632}\n",
      "madolson {'name': 'Madelyn Olson', 'company': 'Amazon', 'additions': 3310, 'commits': 24, 'email': ['34459052+madolson@users.noreply.github.com', 'madelyneolson@gmail.com'], 'deletions': 1636}\n",
      "enjoy-binbin {'name': 'Binbin', 'company': 'Tencent Cloud', 'additions': 3502, 'commits': 146, 'email': ['binloveplay1314@qq.com'], 'deletions': 1115}\n",
      "zuiderkwast {'name': 'Viktor Söderqvist', 'company': 'Ericsson Software Technology', 'additions': 13057, 'commits': 16, 'email': ['viktor.soderqvist@est.tech'], 'deletions': 10622}\n",
      "\n",
      "Redis Employees with >= 10 commits: \n",
      "* People: 6 6.45% of people\n",
      "* Commits: 164 27.70% of total commits\n",
      "* Additions: 189656 80.11% of total additions\n",
      "* Deletions: 83122 73.89% of total deletions\n",
      "\n",
      "Non-Employees with >= 10 commits: \n",
      "* People: 12 12.90% of people\n",
      "* Commits: 319 53.89% of total commits\n",
      "* Additions: 28334 11.97% of total additions\n",
      "* Deletions: 16684 14.83% of total deletions\n",
      "\n",
      "Totals in dataset of people with >=10 commits:\n",
      "* 92.08% of total additions\n",
      "* 88.72% of total deletions\n"
     ]
    }
   ],
   "source": [
    "org_people = 0\n",
    "org_commits = 0\n",
    "org_additions = 0\n",
    "org_deletions = 0\n",
    "\n",
    "other_people = 0\n",
    "other_commits = 0\n",
    "other_additions = 0\n",
    "other_deletions = 0\n",
    "\n",
    "for key,value in person_dict_1yr.items():\n",
    "    try:\n",
    "        if value['commits'] >= 5:\n",
    "            if value['company'] == 'Redis Labs':\n",
    "                org_people += 1\n",
    "                org_commits = org_commits + value['commits']\n",
    "                org_additions = org_additions + value['additions']\n",
    "                org_deletions = org_deletions + value['deletions']\n",
    "            else:\n",
    "                other_people += 1\n",
    "                other_commits = other_commits + value['commits']\n",
    "                other_additions = other_additions + value['additions']\n",
    "                other_deletions = other_deletions + value['deletions']\n",
    "                print(key,value)\n",
    "            i+=1\n",
    "    except:\n",
    "        pass\n",
    "\n",
    "print(\"\\nRedis Employees with >= 10 commits:\", \"\\n* People:\", org_people, format(org_people/people, \".2%\"), \"of people\")\n",
    "print(\"* Commits:\", org_commits, format(org_commits/commits, \".2%\"), \"of total commits\")\n",
    "print(\"* Additions:\", org_additions, format(org_additions/additions, \".2%\"), \"of total additions\")\n",
    "print(\"* Deletions:\", org_deletions, format(org_deletions/deletions, \".2%\"), \"of total deletions\")\n",
    "\n",
    "print(\"\\nNon-Employees with >= 10 commits:\", \"\\n* People:\", other_people, format(other_people/people, \".2%\"), \"of people\")\n",
    "print(\"* Commits:\", other_commits, format(other_commits/commits, \".2%\"), \"of total commits\")\n",
    "print(\"* Additions:\", other_additions, format(other_additions/additions, \".2%\"), \"of total additions\")\n",
    "print(\"* Deletions:\", other_deletions, format(other_deletions/deletions, \".2%\"), \"of total deletions\")\n",
    "      \n",
    "print(\"\\nTotals in dataset of people with >=10 commits:\")\n",
    "print('*', format((other_additions + org_additions)/additions, \".2%\"), \"of total additions\")\n",
    "print('*', format((other_deletions + org_deletions)/deletions, \".2%\"), \"of total deletions\")"
   ]
  },
  {
   "cell_type": "code",
   "execution_count": 32,
   "id": "3c1da357",
   "metadata": {},
   "outputs": [
    {
     "name": "stdout",
     "output_type": "stream",
     "text": [
      "|People|Company|Commits|Additions|Deletions|\n",
      "|:---|:---|:---|:---|:---|\n",
      "| CharlesChen888 | Looking for a job | 21 | 1362 | 529 |\n",
      "| lyq2333 | Alibaba | 10 | 349 | 190 |\n",
      "| meiravgri | None | 5 | 1272 | 361 |\n",
      "| soloestoy | Alibaba | 31 | 828 | 364 |\n",
      "| judeng | None | 10 | 489 | 275 |\n",
      "| hwware | Huawei Technologies | 25 | 763 | 224 |\n",
      "| moshekaplan | None | 7 | 48 | 4 |\n",
      "| roshkhatri | Amazon | 10 | 1917 | 732 |\n",
      "| hpatro | Amazon | 14 | 1437 | 632 |\n",
      "| madolson | Amazon | 24 | 3310 | 1636 |\n",
      "| enjoy-binbin | Tencent Cloud | 146 | 3502 | 1115 |\n",
      "| zuiderkwast | Ericsson Software Technology | 16 | 13057 | 10622 |\n"
     ]
    }
   ],
   "source": [
    "# Make it easy for the print statements to be copied into a Markdown table\n",
    "print('|People|Company|Commits|Additions|Deletions|')\n",
    "print('|:---|:---|:---|:---|:---|')\n",
    "for key,value in person_dict_1yr.items():\n",
    "    try:\n",
    "        if (value['company'] != 'Redis Labs') and (value['commits'] >= 5):\n",
    "            print('|', key,'|', value['company'], '|', value['commits'],'|', value['additions'],'|', value['deletions'],'|')\n",
    "\n",
    "    except:\n",
    "        pass"
   ]
  },
  {
   "cell_type": "markdown",
   "id": "0568478f",
   "metadata": {},
   "source": [
    "Manually copied from above\n",
    "\n",
    "|People|Company|Commits|Additions|Deletions|\n",
    "|:---|:---|:---|:---|:---|\n",
    "| CharlesChen888 | Looking for a job | 21 | 1362 | 529 |\n",
    "| felipou | None | 1 | 138 | 0 |\n",
    "| lyq2333 | Alibaba | 10 | 349 | 190 |\n",
    "| meiravgri | None | 5 | 1272 | 361 |\n",
    "| slavak | None | 3 | 267 | 75 |\n",
    "| soloestoy | Alibaba | 31 | 828 | 364 |\n",
    "| judeng | None | 10 | 489 | 275 |\n",
    "| hwware | Huawei Technologies | 25 | 763 | 224 |\n",
    "| roshkhatri | Amazon | 10 | 1917 | 732 |\n",
    "| hpatro | Amazon | 14 | 1437 | 632 |\n",
    "| madolson | Amazon | 24 | 3310 | 1636 |\n",
    "| vitarb | None | 2 | 2312 | 1128 |\n",
    "| panjf2000 | @gnet-io | 3 | 163 | 73 |\n",
    "| enjoy-binbin | Tencent Cloud | 146 | 3502 | 1115 |\n",
    "| zuiderkwast | Ericsson Software Technology | 16 | 13057 | 10622 |"
   ]
  },
  {
   "cell_type": "markdown",
   "id": "e69adc45",
   "metadata": {},
   "source": [
    "# 2 years before relicense (2022-03-20 - 2024-03-20)"
   ]
  },
  {
   "cell_type": "code",
   "execution_count": 33,
   "id": "7ed7e643",
   "metadata": {},
   "outputs": [
    {
     "data": {
      "text/plain": [
       "184"
      ]
     },
     "execution_count": 33,
     "metadata": {},
     "output_type": "execute_result"
    }
   ],
   "source": [
    "from pprint import pprint\n",
    "import collections\n",
    "import pandas as pd\n",
    "import pickle\n",
    "\n",
    "# Pickle files generated by this script:\n",
    "# https://github.com/chaoss/wg-data-science/blob/main/dataset/license-changes/fork-case-study/commits_people.py\n",
    "\n",
    "people_pickle_2yr = '../data-files/redis_people_2022-03-20T00:00:00.000+00:002024-03-20T00:00:00.000+00:00.pkl'\n",
    "\n",
    "with open(people_pickle_2yr, 'rb') as f:\n",
    "    person_dict_2yr = pickle.load(f)\n",
    "    \n",
    "len(person_dict_2yr)"
   ]
  },
  {
   "cell_type": "code",
   "execution_count": 34,
   "id": "74ef7b24",
   "metadata": {},
   "outputs": [
    {
     "name": "stdout",
     "output_type": "stream",
     "text": [
      "People: 184\n",
      "Commits: 1331\n",
      "Additions 323721\n",
      "Deletions 132462\n"
     ]
    }
   ],
   "source": [
    "people = len(person_dict_2yr)\n",
    "commits = 0\n",
    "additions = 0\n",
    "deletions = 0\n",
    "\n",
    "for key,value in person_dict_2yr.items():\n",
    "    # Normalize company names and use emails to derive Amazon affiliations\n",
    "    if value['company'] == None:\n",
    "        for email in value['email']:\n",
    "            if any(x in email.lower() for x in ['redis.com', 'redislabs.com']):\n",
    "                person_dict_2yr[key]['company'] = 'Redis Labs'\n",
    "            if 'amazon.com' in email:\n",
    "                person_dict_2yr[key]['company'] = 'Amazon'\n",
    "    elif 'redis' in value['company'].lower():\n",
    "        person_dict_2yr[key]['company'] = 'Redis Labs'\n",
    "    elif 'alibaba' in value['company'].lower():\n",
    "        person_dict_2yr[key]['company'] = 'Alibaba'\n",
    "    elif any(x in value['company'].lower() for x in ['aws','amazon']):\n",
    "        person_dict_2yr[key]['company'] = 'Amazon'\n",
    "    \n",
    "        \n",
    "    # Get descriptive statistics\n",
    "    commits = commits + value['commits']\n",
    "    additions = additions + value['additions']\n",
    "    deletions = deletions + value['deletions']\n",
    "    \n",
    "print(\"People:\", people)\n",
    "print(\"Commits:\", commits)\n",
    "print(\"Additions\", additions)\n",
    "print(\"Deletions\", deletions)"
   ]
  },
  {
   "cell_type": "code",
   "execution_count": 35,
   "id": "a433fce9",
   "metadata": {},
   "outputs": [
    {
     "name": "stdout",
     "output_type": "stream",
     "text": [
      "YaacovHazan {'additions': 164, 'deletions': 184, 'name': None, 'email': ['31382944+YaacovHazan@users.noreply.github.com'], 'commits': 13, 'company': None}\n",
      "tezc {'additions': 7944, 'deletions': 569, 'name': 'Ozan Tezcan', 'email': ['ozantezcan@gmail.com'], 'commits': 20, 'company': None}\n",
      "yossigo {'additions': 10351, 'deletions': 1522, 'name': 'Yossi Gottlieb', 'email': ['yossigo@gmail.com'], 'commits': 25, 'company': None}\n",
      "dependabot[bot] {'additions': 58, 'deletions': 59, 'name': None, 'email': ['49699333+dependabot[bot]@users.noreply.github.com'], 'commits': 11, 'company': None}\n",
      "judeng {'additions': 610, 'deletions': 378, 'name': None, 'email': ['abc3844@126.com'], 'commits': 23, 'company': None}\n"
     ]
    }
   ],
   "source": [
    "for key,value in person_dict_2yr.items():\n",
    "    if (value['commits'] >= 10) and (value['company'] == None):\n",
    "        print(key,value)"
   ]
  },
  {
   "cell_type": "code",
   "execution_count": 36,
   "id": "3e54c288",
   "metadata": {},
   "outputs": [],
   "source": [
    "# Manual Fixes\n",
    "person_dict_2yr['YaacovHazan']['company'] = 'Redis Labs' # https://www.linkedin.com/in/yaacov-hazan-b8043a99/\n",
    "person_dict_2yr['yossigo']['company'] = 'Redis Labs'  # https://www.linkedin.com/in/yossi-gottlieb-40842/\n",
    "person_dict_2yr['tezc']['company'] = 'Redis Labs' # confirmed in conversation with Madelyn Olson on 2024-09-18\n",
    "\n",
    "# Remove bots\n",
    "try:\n",
    "    del person_dict_2yr['dependabot[bot]']\n",
    "except:\n",
    "    pass"
   ]
  },
  {
   "cell_type": "code",
   "execution_count": 37,
   "id": "b74b257f",
   "metadata": {},
   "outputs": [
    {
     "name": "stdout",
     "output_type": "stream",
     "text": [
      "CharlesChen888 Looking for a job 25 1701 559\n",
      "ncghost1 Magic School 10 62 15\n",
      "pizhenwei ByteDance 22 1576 824\n",
      "enjoy-binbin Tencent Cloud 263 6749 2457\n",
      "soloestoy Alibaba 40 1025 511\n",
      "judeng None 23 610 378\n",
      "lyq2333 Alibaba 10 349 190\n",
      "madolson Amazon 67 11318 3320\n",
      "hpatro Amazon 20 1791 728\n",
      "hwware Huawei Technologies 57 1205 330\n",
      "roshkhatri Amazon 11 1964 734\n",
      "zuiderkwast Ericsson Software Technology 38 15994 11944\n"
     ]
    }
   ],
   "source": [
    "for key,value in person_dict_2yr.items():\n",
    "    try:\n",
    "        if (value['commits'] >= 10) and (value['company'] != 'Redis Labs'):\n",
    "            print(key,value['company'],value['commits'],value['additions'],value['deletions'])\n",
    "    except:\n",
    "        pass"
   ]
  },
  {
   "cell_type": "code",
   "execution_count": 38,
   "id": "9aadb301",
   "metadata": {},
   "outputs": [
    {
     "name": "stdout",
     "output_type": "stream",
     "text": [
      "devnexen {'additions': 139, 'deletions': 17, 'name': 'David CARLIER', 'email': ['devnexen@gmail.com'], 'commits': 7, 'company': None}\n",
      "CharlesChen888 {'additions': 1701, 'deletions': 559, 'name': 'Chen Tianjie', 'email': ['chentianjie.ctj@alibaba-inc.com', 'TJ_Chen@outlook.com'], 'commits': 25, 'company': 'Looking for a job'}\n",
      "ncghost1 {'additions': 62, 'deletions': 15, 'name': 'Eriri', 'email': ['275955589@qq.com', 'eriri233@qq.com', '41555481+ncghost1@users.noreply.github.com'], 'commits': 10, 'company': 'Magic School'}\n",
      "pizhenwei {'additions': 1576, 'deletions': 824, 'name': 'zhenwei pi', 'email': ['pizhenwei@bytedance.com'], 'commits': 22, 'company': 'ByteDance'}\n",
      "enjoy-binbin {'additions': 6749, 'deletions': 2457, 'name': 'Binbin', 'email': ['binloveplay1314@qq.com'], 'commits': 263, 'company': 'Tencent Cloud'}\n",
      "soloestoy {'additions': 1025, 'deletions': 511, 'name': 'zhaozhao.zz', 'email': ['zhaozhao.zz@alibaba-inc.com', '276441700@qq.com'], 'commits': 40, 'company': 'Alibaba'}\n",
      "judeng {'additions': 610, 'deletions': 378, 'name': None, 'email': ['abc3844@126.com'], 'commits': 23, 'company': None}\n",
      "lyq2333 {'additions': 349, 'deletions': 190, 'name': 'Yanqi Lv', 'email': ['lvyanqi.lyq@alibaba-inc.com', '50293466+lyq2333@users.noreply.github.com'], 'commits': 10, 'company': 'Alibaba'}\n",
      "madolson {'additions': 11318, 'deletions': 3320, 'name': 'Madelyn Olson', 'email': ['34459052+madolson@users.noreply.github.com', 'madelyneolson@gmail.com', 'matolson@amazon.com'], 'commits': 67, 'company': 'Amazon'}\n",
      "DarrenJiang13 {'additions': 121, 'deletions': 37, 'name': None, 'email': ['yjjiang1996@163.com'], 'commits': 7, 'company': 'Shanghai Jiaotong University'}\n",
      "ranshid {'additions': 1112, 'deletions': 895, 'name': None, 'email': ['88133677+ranshid@users.noreply.github.com'], 'commits': 7, 'company': 'Amazon'}\n",
      "yoav-steinberg {'additions': 852, 'deletions': 412, 'name': None, 'email': ['yoav@redislabs.com', 'yoavs@monada.co', 'yoav@monfort.co.il'], 'commits': 6, 'company': 'Monada Inc.'}\n",
      "meiravgri {'additions': 1272, 'deletions': 361, 'name': None, 'email': ['109056284+meiravgri@users.noreply.github.com'], 'commits': 5, 'company': None}\n",
      "uvletter {'additions': 458, 'deletions': 94, 'name': 'Tian', 'email': ['skylypig@gmail.com'], 'commits': 8, 'company': None}\n",
      "huangzhw {'additions': 698, 'deletions': 201, 'name': 'Huang Zhw', 'email': ['huang_zhw@126.com'], 'commits': 8, 'company': 'Netease'}\n",
      "hpatro {'additions': 1791, 'deletions': 728, 'name': 'Harkrishn Patro', 'email': ['harkrisp@amazon.com', 'bunty.hari@gmail.com'], 'commits': 20, 'company': 'Amazon'}\n",
      "hwware {'additions': 1205, 'deletions': 330, 'name': 'Wen Hui', 'email': ['wen.hui.ware@gmail.com'], 'commits': 57, 'company': 'Huawei Technologies'}\n",
      "moshekaplan {'additions': 48, 'deletions': 4, 'name': 'Moshe Kaplan', 'email': ['mosheekaplan@gmail.com'], 'commits': 7, 'company': None}\n",
      "roshkhatri {'additions': 1964, 'deletions': 734, 'name': 'Roshan Khatri', 'email': ['117414976+roshkhatri@users.noreply.github.com', 'rvkhatri@amazon.com'], 'commits': 11, 'company': 'Amazon'}\n",
      "chenyang8094 {'additions': 351, 'deletions': 78, 'name': 'chenyang8094', 'email': ['chenyang8094@users.noreply.github.com'], 'commits': 8, 'company': 'Alibaba'}\n",
      "zuiderkwast {'additions': 15994, 'deletions': 11944, 'name': 'Viktor Söderqvist', 'email': ['viktor.soderqvist@est.tech', 'viktor@zuiderkwast.se'], 'commits': 38, 'company': 'Ericsson Software Technology'}\n",
      "\n",
      "Redis Employees with >= 10 commits: \n",
      "* People: 12 6.52% of people\n",
      "* Commits: 458 34.41% of total commits\n",
      "* Additions: 244746 75.60% of total additions\n",
      "* Deletions: 94566 71.39% of total deletions\n",
      "\n",
      "Non-Employees with >= 10 commits: \n",
      "* People: 21 11.41% of people\n",
      "* Commits: 649 48.76% of total commits\n",
      "* Additions: 49395 15.26% of total additions\n",
      "* Deletions: 24089 18.19% of total deletions\n",
      "\n",
      "Totals in dataset of people with >=10 commits:\n",
      "* 90.86% of total additions\n",
      "* 89.58% of total deletions\n"
     ]
    }
   ],
   "source": [
    "org_people = 0\n",
    "org_commits = 0\n",
    "org_additions = 0\n",
    "org_deletions = 0\n",
    "\n",
    "other_people = 0\n",
    "other_commits = 0\n",
    "other_additions = 0\n",
    "other_deletions = 0\n",
    "\n",
    "for key,value in person_dict_2yr.items():\n",
    "    try:\n",
    "        if value['commits'] >= 5:\n",
    "            if value['company'] == 'Redis Labs':\n",
    "                org_people += 1\n",
    "                org_commits = org_commits + value['commits']\n",
    "                org_additions = org_additions + value['additions']\n",
    "                org_deletions = org_deletions + value['deletions']\n",
    "            else:\n",
    "                other_people += 1\n",
    "                other_commits = other_commits + value['commits']\n",
    "                other_additions = other_additions + value['additions']\n",
    "                other_deletions = other_deletions + value['deletions']\n",
    "                print(key,value)\n",
    "            i+=1\n",
    "    except:\n",
    "        pass\n",
    "\n",
    "print(\"\\nRedis Employees with >= 10 commits:\", \"\\n* People:\", org_people, format(org_people/people, \".2%\"), \"of people\")\n",
    "print(\"* Commits:\", org_commits, format(org_commits/commits, \".2%\"), \"of total commits\")\n",
    "print(\"* Additions:\", org_additions, format(org_additions/additions, \".2%\"), \"of total additions\")\n",
    "print(\"* Deletions:\", org_deletions, format(org_deletions/deletions, \".2%\"), \"of total deletions\")\n",
    "\n",
    "print(\"\\nNon-Employees with >= 10 commits:\", \"\\n* People:\", other_people, format(other_people/people, \".2%\"), \"of people\")\n",
    "print(\"* Commits:\", other_commits, format(other_commits/commits, \".2%\"), \"of total commits\")\n",
    "print(\"* Additions:\", other_additions, format(other_additions/additions, \".2%\"), \"of total additions\")\n",
    "print(\"* Deletions:\", other_deletions, format(other_deletions/deletions, \".2%\"), \"of total deletions\")\n",
    "      \n",
    "print(\"\\nTotals in dataset of people with >=10 commits:\")\n",
    "print('*', format((other_additions + org_additions)/additions, \".2%\"), \"of total additions\")\n",
    "print('*', format((other_deletions + org_deletions)/deletions, \".2%\"), \"of total deletions\")"
   ]
  },
  {
   "cell_type": "code",
   "execution_count": null,
   "id": "b13f4e12",
   "metadata": {},
   "outputs": [],
   "source": []
  }
 ],
 "metadata": {
  "kernelspec": {
   "display_name": "Python 3",
   "language": "python",
   "name": "python3"
  },
  "language_info": {
   "codemirror_mode": {
    "name": "ipython",
    "version": 3
   },
   "file_extension": ".py",
   "mimetype": "text/x-python",
   "name": "python",
   "nbconvert_exporter": "python",
   "pygments_lexer": "ipython3",
   "version": "3.11.10"
  }
 },
 "nbformat": 4,
 "nbformat_minor": 5
}
