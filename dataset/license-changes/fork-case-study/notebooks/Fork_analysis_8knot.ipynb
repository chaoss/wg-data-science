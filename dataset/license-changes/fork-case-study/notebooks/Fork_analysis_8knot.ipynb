{
 "cells": [
  {
   "cell_type": "markdown",
   "id": "8bffd45a-a631-4dc2-b9d4-5b15b4453754",
   "metadata": {},
   "source": [
    "# Fork Comparison Analysis using 8Knot"
   ]
  },
  {
   "cell_type": "markdown",
   "id": "27fbc67d-5fc9-418f-84e4-7ca168cedb1d",
   "metadata": {},
   "source": [
    "This notebook is to act as a place to write down observations and useful graphs. \\\n",
    "CHAOSS 8knot public instance: https://metrix.chaoss.io/"
   ]
  },
  {
   "cell_type": "code",
   "execution_count": 3,
   "id": "651b6e66-c3e5-46a4-be64-c21cf0738cf9",
   "metadata": {},
   "outputs": [],
   "source": [
    "import matplotlib.pyplot as plt"
   ]
  },
  {
   "cell_type": "code",
   "execution_count": null,
   "id": "fa997e38-e572-4134-945d-d592fd774258",
   "metadata": {},
   "outputs": [],
   "source": [
    "# example image import\n",
    "Image(filename=\"8knot_graph.png\")"
   ]
  },
  {
   "cell_type": "markdown",
   "id": "b8363967-507c-4331-b308-1aab19e09132",
   "metadata": {},
   "source": [
    "## Fork Comparison 1: Terraform and \n",
    "\n",
    "08/10/2023: Terraform license change from Mozilla Public License v2.0 (MPL 2.0) to "
   ]
  },
  {
   "cell_type": "markdown",
   "id": "cba1b6b2-3b9f-41b2-8513-c137fbe614d3",
   "metadata": {},
   "source": [
    "https://github.com/hashicorp/terraform \\\n",
    "https://github.com/opentofu/opentofu"
   ]
  },
  {
   "cell_type": "markdown",
   "id": "e6e9f6bf-8478-4cc2-9137-52d1331f05dd",
   "metadata": {},
   "source": [
    "Notes, visualizations, and observations here! "
   ]
  },
  {
   "cell_type": "markdown",
   "id": "7b925205-c312-4da7-8c1e-83e12aebc844",
   "metadata": {},
   "source": [
    "## Fork Comparison 2: Redis and Valkey \n",
    "\n",
    "03/20/2024: Redis license change from Berkeley Software Distribution 3-clause (BSD-3) to Redis Source Available License (RSALv2) and the SSPLv1"
   ]
  },
  {
   "cell_type": "markdown",
   "id": "0efd40f4-8a0b-411d-97a9-f9a75e971b70",
   "metadata": {},
   "source": [
    "https://github.com/redis/redis \\\n",
    "https://github.com/valkey-io/valkey"
   ]
  },
  {
   "cell_type": "markdown",
   "id": "7a52b146-f0ec-44a0-a78b-3fec4a72e916",
   "metadata": {},
   "source": [
    "Notes, visualizations, and observations here! "
   ]
  }
 ],
 "metadata": {
  "kernelspec": {
   "display_name": "Python 3.11",
   "language": "python",
   "name": "python3"
  },
  "language_info": {
   "codemirror_mode": {
    "name": "ipython",
    "version": 3
   },
   "file_extension": ".py",
   "mimetype": "text/x-python",
   "name": "python",
   "nbconvert_exporter": "python",
   "pygments_lexer": "ipython3",
   "version": "3.11.9"
  }
 },
 "nbformat": 4,
 "nbformat_minor": 5
}
