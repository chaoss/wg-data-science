{
 "cells": [
  {
   "cell_type": "markdown",
   "id": "1cda6411-2961-4466-bebf-44c276a4134f",
   "metadata": {},
   "source": [
    "# 🚀 Hackathon: GitHub Data for the Forks Case Study \n",
    "\n",
    "This will guide you through collecting and visualizing GitHub Pull Request (PR) data for any repository. \n",
    "\n",
    "You’ll fetch PR data using a Python script, then use a Jupyter notebook to explore and visualize the results.\n",
    "\n",
    "Use this notebook or create your own to document any code or findings during the hackathon. Don't worry about it being perfect, it's your own notebook!\n",
    "\n",
    "## 📝 Step 1: Prepare Your Environment\n",
    "\n",
    "1. **Clone or download this repo** to your local machine.\n",
    "2. **Install Anaconda** (if you haven’t already):\n",
    "3. **Get a GitHub personal access token**\n",
    "Go to GitHub Settings > Developer settings > Personal access tokens\n",
    "Click \"Generate new token\" (classic), select repo scope, and copy the token.\n",
    "\n",
    "Save your token in a file named gh_keys.txt in the same folder as the scripts. "
   ]
  },
  {
   "cell_type": "markdown",
   "id": "33874779-a9db-4a9a-94c2-799044573b8a",
   "metadata": {},
   "source": [
    "## 🏃‍♂️ Step 2: Fetch and Plot PR Data\n",
    "Run the following command to fetch PR data for your chosen repository:"
   ]
  },
  {
   "cell_type": "code",
   "execution_count": null,
   "id": "8be750f7-7899-4747-b6be-409a649cb817",
   "metadata": {},
   "outputs": [],
   "source": [
    "%run fetch_pr.py"
   ]
  },
  {
   "cell_type": "markdown",
   "id": "bcad7cb6-aaf5-4947-ae14-205c7fc121d9",
   "metadata": {},
   "source": [
    "You can edit main_fetch.py to set the repository, date range, and other options.\n",
    "\n",
    "This will create two files:\n",
    "\n",
    "1. pull_requests.csv — all PRs and their metadata\n",
    "2. monthly_counts.csv — monthly counts of open, approved (merged), and closed PRs"
   ]
  },
  {
   "cell_type": "markdown",
   "id": "187c296f-ab6d-4c99-9da9-7307d488830d",
   "metadata": {},
   "source": [
    "## 👥 Step 3: What else can we do with this data? \n",
    "\n",
    "1. Contributor Analysis:\n",
    "    How many people contribute this repo? (Count)\n",
    "    Who are the top contributors? \n",
    "    Are contributors associated with an organization? If so, which?\n",
    "\n",
    "2. Merging PRs\n",
    "    How long does it take for a PR to be merged?\n",
    "    Who approves PRs? Are they from a particular organization?\n",
    "\n",
    "3. More Data\n",
    "    Are other fields required?\n",
    "    What other data can we get from the GraphQL?\n",
    "\n",
    "To address these questions, start simple and build on your code. For example, below is code for reading and finding unique contributors with less than and more than 10 PRs. "
   ]
  },
  {
   "cell_type": "code",
   "execution_count": null,
   "id": "ed457e7f-2887-4ee4-a4ba-ec9137742eb0",
   "metadata": {},
   "outputs": [],
   "source": [
    "df = pd.read_csv(\"pull_requests.csv\")\n",
    "author_counts = df['author'].apply(lambda x: eval(x)['login'] if pd.notnull(x) else None)\n",
    "author_counts = author_counts.value_counts()\n",
    "less_than_10 = (author_counts < 10).sum()\n",
    "more_than_10 = (author_counts >= 10).sum()\n",
    "print(f\"Unique contributors with <10 PRs: {less_than_10}\")\n",
    "print(f\"Unique contributors with >=10 PRs: {more_than_10}\")"
   ]
  }
 ],
 "metadata": {
  "kernelspec": {
   "display_name": "Python [conda env:base] *",
   "language": "python",
   "name": "conda-base-py"
  },
  "language_info": {
   "codemirror_mode": {
    "name": "ipython",
    "version": 3
   },
   "file_extension": ".py",
   "mimetype": "text/x-python",
   "name": "python",
   "nbconvert_exporter": "python",
   "pygments_lexer": "ipython3",
   "version": "3.12.7"
  }
 },
 "nbformat": 4,
 "nbformat_minor": 5
}
